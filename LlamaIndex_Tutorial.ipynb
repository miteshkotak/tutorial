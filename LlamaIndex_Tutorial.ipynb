{
  "nbformat": 4,
  "nbformat_minor": 0,
  "metadata": {
    "colab": {
      "provenance": [],
      "include_colab_link": true
    },
    "kernelspec": {
      "name": "python3",
      "display_name": "Python 3"
    },
    "language_info": {
      "name": "python"
    }
  },
  "cells": [
    {
      "cell_type": "markdown",
      "metadata": {
        "id": "view-in-github",
        "colab_type": "text"
      },
      "source": [
        "<a href=\"https://colab.research.google.com/github/miteshkotak/tutorial/blob/mitesh-branch/LlamaIndex_Tutorial.ipynb\" target=\"_parent\"><img src=\"https://colab.research.google.com/assets/colab-badge.svg\" alt=\"Open In Colab\"/></a>"
      ]
    },
    {
      "cell_type": "markdown",
      "source": [
        "At its core, LlamaIndex contains a toolkit designed to easily connect LLM’s with your external data."
      ],
      "metadata": {
        "id": "pGyvVFDofj7J"
      }
    },
    {
      "cell_type": "markdown",
      "source": [
        "\n",
        "\n",
        "\n",
        "\n",
        "1.   Creating and Quering Index\n",
        "2.   Saving and Loading Index\n",
        "3.   Customize LLM\n",
        "4.   Customize Prompt\n",
        "5.   Customize Embedding\n"
      ],
      "metadata": {
        "id": "2RhwS5nKlBKn"
      }
    },
    {
      "cell_type": "code",
      "execution_count": null,
      "metadata": {
        "id": "N5jlMQblkT6a"
      },
      "outputs": [],
      "source": [
        "!pip install llama-index pypdf sentence_transformers -q"
      ]
    },
    {
      "cell_type": "markdown",
      "source": [
        "By default, we use the OpenAI GPT-3 text-davinci-003 model.\n",
        "\n",
        "https://gpt-index.readthedocs.io/en/latest/getting_started/installation.html"
      ],
      "metadata": {
        "id": "3FmYnWbMcNea"
      }
    },
    {
      "cell_type": "code",
      "source": [
        "import os\n",
        "import openai\n",
        "openai.api_key = \"\"\n",
        "os.environ[\"OPENAI_API_KEY\"] = \"\""
      ],
      "metadata": {
        "id": "sbQojwXrcmHi"
      },
      "execution_count": null,
      "outputs": []
    },
    {
      "cell_type": "markdown",
      "source": [
        "##Creating Index"
      ],
      "metadata": {
        "id": "KdwDu7QvfUWJ"
      }
    },
    {
      "cell_type": "markdown",
      "source": [
        "https://gpt-index.readthedocs.io/en/latest/guides/primer/index_guide.html"
      ],
      "metadata": {
        "id": "LitzR-ZaehHo"
      }
    },
    {
      "cell_type": "code",
      "source": [
        "from llama_index import VectorStoreIndex, SimpleDirectoryReader\n",
        "documents = SimpleDirectoryReader('book').load_data()\n",
        "index = VectorStoreIndex.from_documents(documents)\n",
        "query_engine = index.as_query_engine()"
      ],
      "metadata": {
        "id": "oYXrqWY8kbjX"
      },
      "execution_count": null,
      "outputs": []
    },
    {
      "cell_type": "code",
      "source": [
        "response = query_engine.query(\"What is this text about?\")\n",
        "print(response)"
      ],
      "metadata": {
        "colab": {
          "base_uri": "https://localhost:8080/"
        },
        "id": "l_P-4avBb1mn",
        "outputId": "7fd53ce9-203d-4dd3-d090-04791a2443b2"
      },
      "execution_count": null,
      "outputs": [
        {
          "output_type": "stream",
          "name": "stdout",
          "text": [
            "\n",
            "This text is about the dangers of lusting after money and how it can occupy one's mind and lead to paranoia and fear. It also discusses how Naval Ravikant combined his vocation and avocation to make money in a way that felt like play.\n"
          ]
        }
      ]
    },
    {
      "cell_type": "code",
      "source": [
        "response = query_engine.query(\"who is this text about?\")\n",
        "print(response)"
      ],
      "metadata": {
        "colab": {
          "base_uri": "https://localhost:8080/"
        },
        "id": "jlUAUW8kda6-",
        "outputId": "13a24cec-ae14-457b-b60f-adf29e562462"
      },
      "execution_count": null,
      "outputs": [
        {
          "output_type": "stream",
          "name": "stdout",
          "text": [
            "\n",
            "This text is about Naval Ravikant.\n"
          ]
        }
      ]
    },
    {
      "cell_type": "code",
      "source": [
        "response = query_engine.query(\"when was this book published\")\n",
        "print(response)"
      ],
      "metadata": {
        "colab": {
          "base_uri": "https://localhost:8080/"
        },
        "id": "A3FU9ahId1mK",
        "outputId": "27ad751d-8616-4c8a-a546-d1c32cc2dfcb"
      },
      "execution_count": null,
      "outputs": [
        {
          "output_type": "stream",
          "name": "stdout",
          "text": [
            "\n",
            "This book was published in 2020.\n"
          ]
        }
      ]
    },
    {
      "cell_type": "code",
      "source": [
        "response = query_engine.query(\"list 5 important points from this book\")\n",
        "print(response)"
      ],
      "metadata": {
        "colab": {
          "base_uri": "https://localhost:8080/"
        },
        "id": "AQI2inwj5I-g",
        "outputId": "e5d7394a-14bb-43c9-dbcb-2d5a63b4dd35"
      },
      "execution_count": null,
      "outputs": [
        {
          "output_type": "stream",
          "name": "stdout",
          "text": [
            "\n",
            "1. Understand How Wealth Is Created\n",
            "2. Find and Build Specific Knowledge\n",
            "3. Play Long-Term Games with Long-Term People\n",
            "4. Take on Accountability\n",
            "5. Build or Buy Equity in a Business\n"
          ]
        }
      ]
    },
    {
      "cell_type": "code",
      "source": [
        "response = query_engine.query(\"what naval says about wealth creation\")\n",
        "print(response)"
      ],
      "metadata": {
        "colab": {
          "base_uri": "https://localhost:8080/"
        },
        "id": "hcHIu1px5RFd",
        "outputId": "2876925e-a718-40d2-89ca-54ceca84ffe3"
      },
      "execution_count": null,
      "outputs": [
        {
          "output_type": "stream",
          "name": "stdout",
          "text": [
            "\n",
            "Naval Ravikant says that wealth creation is possible through ethical means. He suggests seeking wealth instead of money or status, and suggests that one should own equity in a business in order to gain financial freedom. He also suggests that one should give society what it wants but does not yet know how to get, and that this should be done at scale. He further states that money is how we transfer wealth, and that wealth is assets that earn while you sleep.\n"
          ]
        }
      ]
    },
    {
      "cell_type": "markdown",
      "source": [
        "##Saving and Loading Index"
      ],
      "metadata": {
        "id": "SYCicUypfL5f"
      }
    },
    {
      "cell_type": "code",
      "source": [
        "index.storage_context.persist(\"naval_index\")"
      ],
      "metadata": {
        "id": "yDLZsNied6ed"
      },
      "execution_count": null,
      "outputs": []
    },
    {
      "cell_type": "code",
      "source": [
        "from llama_index import StorageContext, load_index_from_storage\n",
        "\n",
        "# rebuild storage context\n",
        "storage_context = StorageContext.from_defaults(persist_dir=\"naval_index\")\n",
        "# load index\n",
        "new_index = load_index_from_storage(storage_context)"
      ],
      "metadata": {
        "id": "3ZKWedL0eaHE"
      },
      "execution_count": null,
      "outputs": []
    },
    {
      "cell_type": "code",
      "source": [
        "new_query_engine = new_index.as_query_engine()\n",
        "response = new_query_engine.query(\"who is this text about?\")\n",
        "print(response)"
      ],
      "metadata": {
        "colab": {
          "base_uri": "https://localhost:8080/"
        },
        "id": "-dRCZNgieqCH",
        "outputId": "e7906b7f-11ad-4e0a-f96c-c0a10830cf5b"
      },
      "execution_count": null,
      "outputs": [
        {
          "output_type": "stream",
          "name": "stdout",
          "text": [
            "\n",
            "This text is about Naval Ravikant.\n"
          ]
        }
      ]
    },
    {
      "cell_type": "markdown",
      "source": [
        "##Customizing LLM's"
      ],
      "metadata": {
        "id": "ylgvtjYYhUsR"
      }
    },
    {
      "cell_type": "markdown",
      "source": [
        "https://gpt-index.readthedocs.io/en/latest/how_to/customization/service_context.html"
      ],
      "metadata": {
        "id": "mhgTsZ8Mkjo-"
      }
    },
    {
      "cell_type": "code",
      "source": [
        "from llama_index import LLMPredictor, ServiceContext\n",
        "\n",
        "from langchain.chat_models import ChatOpenAI\n",
        "\n",
        "llm_predictor = LLMPredictor(llm=ChatOpenAI(temperature=0, model_name=\"gpt-3.5-turbo\"))\n",
        "\n",
        "\n",
        "service_context = ServiceContext.from_defaults(llm_predictor=llm_predictor)\n",
        "\n",
        "\n",
        "custom_llm_index = VectorStoreIndex.from_documents(\n",
        "    documents, service_context=service_context\n",
        ")"
      ],
      "metadata": {
        "id": "VbBjscd0gJvb"
      },
      "execution_count": null,
      "outputs": []
    },
    {
      "cell_type": "markdown",
      "source": [],
      "metadata": {
        "id": "C7NJJXErk6xI"
      }
    },
    {
      "cell_type": "markdown",
      "source": [],
      "metadata": {
        "id": "zbpMTfrBk-7h"
      }
    },
    {
      "cell_type": "code",
      "source": [
        "custom_llm_query_engine = custom_llm_index.as_query_engine()\n",
        "response = custom_llm_query_engine.query(\"who is this text about?\")\n",
        "print(response)"
      ],
      "metadata": {
        "colab": {
          "base_uri": "https://localhost:8080/"
        },
        "id": "EiEjCpzfgohI",
        "outputId": "d77c85fb-f9b2-44dc-8901-252a79d227b0"
      },
      "execution_count": null,
      "outputs": [
        {
          "output_type": "stream",
          "name": "stdout",
          "text": [
            "This text is about Naval Ravikant.\n"
          ]
        }
      ]
    },
    {
      "cell_type": "markdown",
      "source": [
        "##Custom Prompt"
      ],
      "metadata": {
        "id": "xSyCbMk-kM3d"
      }
    },
    {
      "cell_type": "code",
      "source": [
        "from llama_index import Prompt\n",
        "\n",
        "template = (\n",
        "    \"We have provided context information below. \\n\"\n",
        "    \"---------------------\\n\"\n",
        "    \"{context_str}\"\n",
        "    \"\\n---------------------\\n\"\n",
        "    \"Given this information, please answer the question and each answer should start with code word AI Demos: {query_str}\\n\"\n",
        ")\n",
        "qa_template = Prompt(template)"
      ],
      "metadata": {
        "id": "V4ciXrGYg1Fs"
      },
      "execution_count": null,
      "outputs": []
    },
    {
      "cell_type": "code",
      "source": [
        "query_engine = custom_llm_index.as_query_engine(text_qa_template=qa_template)\n",
        "response = query_engine.query(\"who is this text about?\")\n",
        "print(response)"
      ],
      "metadata": {
        "colab": {
          "base_uri": "https://localhost:8080/"
        },
        "id": "c0truEw_h2lm",
        "outputId": "a9f4678c-1dd8-4d8c-fdd0-9f66220b9ea8"
      },
      "execution_count": null,
      "outputs": [
        {
          "output_type": "stream",
          "name": "stdout",
          "text": [
            "AI Demos: This text is about Naval Ravikant.\n"
          ]
        }
      ]
    },
    {
      "cell_type": "markdown",
      "source": [
        "##Custom Embedding"
      ],
      "metadata": {
        "id": "AdlYKJ44kQXK"
      }
    },
    {
      "cell_type": "code",
      "source": [
        "from langchain.embeddings.huggingface import HuggingFaceEmbeddings\n",
        "from llama_index import LangchainEmbedding, ServiceContext\n",
        "\n",
        "# load in HF embedding model from langchain\n",
        "embed_model = LangchainEmbedding(HuggingFaceEmbeddings(model_name='sentence-transformers/all-MiniLM-L6-v2'))\n",
        "service_context = ServiceContext.from_defaults(embed_model=embed_model)\n",
        "\n",
        "new_index = VectorStoreIndex.from_documents(\n",
        "    documents,\n",
        "    service_context=service_context,\n",
        ")"
      ],
      "metadata": {
        "id": "iRmTXU4liRo-"
      },
      "execution_count": null,
      "outputs": []
    },
    {
      "cell_type": "code",
      "source": [
        "query_engine = new_index.as_query_engine()\n",
        "response = query_engine.query(\"list 5 important points from this book\")\n",
        "print(response)"
      ],
      "metadata": {
        "colab": {
          "base_uri": "https://localhost:8080/"
        },
        "id": "ZWfIK6E2jN2e",
        "outputId": "8f5e8e99-0e54-4207-9978-67b7e48c38e8"
      },
      "execution_count": null,
      "outputs": [
        {
          "output_type": "stream",
          "name": "stdout",
          "text": [
            "\n",
            "1. Building wealth and being happy are skills that can be learned.\n",
            "2. The Almanack of Naval Ravikant is a collection of Naval's wisdom and experience from the last ten years.\n",
            "3. This book provides insight into Naval's principles for building wealth and creating long-term happiness.\n",
            "4. This book is available for free download in pdf and e-reader versions on Navalmanack.com.\n",
            "5. Eric Jorgenson is a product strategist and writer who joined the founding team of Zaarly.\n"
          ]
        }
      ]
    },
    {
      "cell_type": "code",
      "source": [
        "query_engine = new_index.as_query_engine()\n",
        "response = query_engine.query(\"what naval says about wealth creation\")\n",
        "print(response)"
      ],
      "metadata": {
        "colab": {
          "base_uri": "https://localhost:8080/"
        },
        "id": "s2c0MK5XncyM",
        "outputId": "fa42a8fd-290f-41a5-8f98-b8285562048b"
      },
      "execution_count": null,
      "outputs": [
        {
          "output_type": "stream",
          "name": "stdout",
          "text": [
            "\n",
            "Naval Ravikant says that wealth creation is not a one-time thing, but a skill that needs to be learned. He suggests asking yourself if what you are doing is authentic to you and if you are productizing, scaling, and using labor, capital, code, or media to do so. He also states that money is a way to transfer wealth, and that wealth is assets that can earn while you sleep, such as businesses, factories, robots, computer programs, and even houses that can be rented out.\n"
          ]
        }
      ]
    },
    {
      "cell_type": "code",
      "source": [],
      "metadata": {
        "id": "M-YrCeyEnvXT"
      },
      "execution_count": null,
      "outputs": []
    }
  ]
}